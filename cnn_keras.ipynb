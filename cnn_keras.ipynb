{
  "nbformat": 4,
  "nbformat_minor": 0,
  "metadata": {
    "colab": {
      "name": "cnn_keras.ipynb",
      "version": "0.3.2",
      "provenance": [],
      "collapsed_sections": []
    },
    "kernelspec": {
      "name": "python3",
      "display_name": "Python 3"
    },
    "accelerator": "GPU"
  },
  "cells": [
    {
      "cell_type": "code",
      "metadata": {
        "id": "jB9dc_3UJ8si",
        "colab_type": "code",
        "outputId": "deed334b-1c37-4d24-c893-30cd55b1a1c8",
        "colab": {
          "base_uri": "https://localhost:8080/",
          "height": 459
        }
      },
      "source": [
        "#-----installing ktrain library to employ learning rate schedule-------#\n",
        "!pip3 install ktrain"
      ],
      "execution_count": 0,
      "outputs": [
        {
          "output_type": "stream",
          "text": [
            "Collecting ktrain\n",
            "  Downloading https://files.pythonhosted.org/packages/59/64/645252e81cec1743f86c65f81636213af107a96e30c338ad8d9fde38e4fd/ktrain-0.1.8.tar.gz\n",
            "Requirement already satisfied: keras>=2.2.4 in /usr/local/lib/python3.6/dist-packages (from ktrain) (2.2.4)\n",
            "Requirement already satisfied: scikit-learn>=0.20.0 in /usr/local/lib/python3.6/dist-packages (from ktrain) (0.21.2)\n",
            "Requirement already satisfied: matplotlib>=3.0.0 in /usr/local/lib/python3.6/dist-packages (from ktrain) (3.0.3)\n",
            "Requirement already satisfied: pandas>=0.24.2 in /usr/local/lib/python3.6/dist-packages (from ktrain) (0.24.2)\n",
            "Requirement already satisfied: pyyaml in /usr/local/lib/python3.6/dist-packages (from keras>=2.2.4->ktrain) (3.13)\n",
            "Requirement already satisfied: scipy>=0.14 in /usr/local/lib/python3.6/dist-packages (from keras>=2.2.4->ktrain) (1.3.0)\n",
            "Requirement already satisfied: h5py in /usr/local/lib/python3.6/dist-packages (from keras>=2.2.4->ktrain) (2.8.0)\n",
            "Requirement already satisfied: keras-applications>=1.0.6 in /usr/local/lib/python3.6/dist-packages (from keras>=2.2.4->ktrain) (1.0.8)\n",
            "Requirement already satisfied: numpy>=1.9.1 in /usr/local/lib/python3.6/dist-packages (from keras>=2.2.4->ktrain) (1.16.4)\n",
            "Requirement already satisfied: keras-preprocessing>=1.0.5 in /usr/local/lib/python3.6/dist-packages (from keras>=2.2.4->ktrain) (1.1.0)\n",
            "Requirement already satisfied: six>=1.9.0 in /usr/local/lib/python3.6/dist-packages (from keras>=2.2.4->ktrain) (1.12.0)\n",
            "Requirement already satisfied: joblib>=0.11 in /usr/local/lib/python3.6/dist-packages (from scikit-learn>=0.20.0->ktrain) (0.13.2)\n",
            "Requirement already satisfied: python-dateutil>=2.1 in /usr/local/lib/python3.6/dist-packages (from matplotlib>=3.0.0->ktrain) (2.5.3)\n",
            "Requirement already satisfied: pyparsing!=2.0.4,!=2.1.2,!=2.1.6,>=2.0.1 in /usr/local/lib/python3.6/dist-packages (from matplotlib>=3.0.0->ktrain) (2.4.0)\n",
            "Requirement already satisfied: cycler>=0.10 in /usr/local/lib/python3.6/dist-packages (from matplotlib>=3.0.0->ktrain) (0.10.0)\n",
            "Requirement already satisfied: kiwisolver>=1.0.1 in /usr/local/lib/python3.6/dist-packages (from matplotlib>=3.0.0->ktrain) (1.1.0)\n",
            "Requirement already satisfied: pytz>=2011k in /usr/local/lib/python3.6/dist-packages (from pandas>=0.24.2->ktrain) (2018.9)\n",
            "Requirement already satisfied: setuptools in /usr/local/lib/python3.6/dist-packages (from kiwisolver>=1.0.1->matplotlib>=3.0.0->ktrain) (41.0.1)\n",
            "Building wheels for collected packages: ktrain\n",
            "  Building wheel for ktrain (setup.py) ... \u001b[?25l\u001b[?25hdone\n",
            "  Stored in directory: /root/.cache/pip/wheels/66/20/65/9837200c0599c8be93473586d3ecebb6c45fc039537898c2e6\n",
            "Successfully built ktrain\n",
            "Installing collected packages: ktrain\n",
            "Successfully installed ktrain-0.1.8\n"
          ],
          "name": "stdout"
        }
      ]
    },
    {
      "cell_type": "code",
      "metadata": {
        "id": "pZLFJM2LMMYc",
        "colab_type": "code",
        "colab": {}
      },
      "source": [
        "#--------------importing packages----------------#\n",
        "import keras\n",
        "from keras.models import Sequential\n",
        "from keras.utils import np_utils\n",
        "from keras.preprocessing.image import ImageDataGenerator\n",
        "from keras.layers import Dense, Activation, Flatten, Dropout, BatchNormalization\n",
        "from keras.layers import Conv2D, MaxPooling2D\n",
        "from keras.datasets import cifar10\n",
        "from keras import regularizers, optimizers\n",
        "import numpy as np\n",
        "from sklearn.model_selection import StratifiedKFold\n",
        "import ktrain\n",
        "from ktrain import vision as vis\n",
        "import matplotlib.pyplot as plt\n",
        "\n",
        "\n",
        "#---------loading cifar10 from keras.datasets-----------------#\n",
        "(x_train, y_train), (x_test, y_test) = cifar10.load_data()\n",
        "x_train = x_train.astype('float32')\n",
        "x_test = x_test.astype('float32')\n",
        "x=[0]*60000\n",
        "x[:50001]=x_train\n",
        "x[50000:]=x_test\n",
        "y=[0]*60000\n",
        "y[:50001]=y_train\n",
        "y[50000:]=y_test\n",
        "x=np.array(x)  #Since there is no requirment of test set for implementing stratified K fold, all the images are stored in 'x'\n",
        "y=np.array(y)  #All the labels are in 'y'\n"
      ],
      "execution_count": 0,
      "outputs": []
    },
    {
      "cell_type": "code",
      "metadata": {
        "id": "u03cU7oJ5RKg",
        "colab_type": "code",
        "colab": {
          "base_uri": "https://localhost:8080/",
          "height": 51
        },
        "outputId": "0926cf8f-dcc5-4888-df61-477caa20909b"
      },
      "source": [
        "print(x.shape)  #dataset contains 60,000 images of dimensions 32*32*3 (height*width*channels)\n",
        "print(y.shape)  #likewise there are 60,000 labels"
      ],
      "execution_count": 37,
      "outputs": [
        {
          "output_type": "stream",
          "text": [
            "(60000, 32, 32, 3)\n",
            "(60000, 1)\n"
          ],
          "name": "stdout"
        }
      ]
    },
    {
      "cell_type": "code",
      "metadata": {
        "id": "JXIZcYJHKgq6",
        "colab_type": "code",
        "colab": {}
      },
      "source": [
        "#-----------normalization(z-score)-----------------------#\n",
        "mean = np.mean(x,axis=(0,1,2,3))\n",
        "std = np.std(x,axis=(0,1,2,3))\n",
        "x = (x-mean)/(std+1e-7)\n",
        "\n",
        "\n",
        "#-------------------One Hot Encoding---------------# \n",
        "num_classes = 10\n",
        "y_label = np_utils.to_categorical(y,num_classes)\n"
      ],
      "execution_count": 0,
      "outputs": []
    },
    {
      "cell_type": "code",
      "metadata": {
        "id": "leb6_rlSL_9-",
        "colab_type": "code",
        "colab": {
          "base_uri": "https://localhost:8080/",
          "height": 459
        },
        "outputId": "2a112e6d-0b28-49e5-d0b5-83c535868af7"
      },
      "source": [
        "#---------plotting first few images-------------#\n",
        "\n",
        "for i in range(9):\n",
        "\tplt.subplot(330 + 1 + i) # define subplot\n",
        "\tplt.imshow(x[i])  # define subplot\n",
        "plt.show()  # define subplot\n",
        "\n",
        "#-----10 classes in cifar10 dataset are ['airplane','automobile','bird','cat','deer','dog','frog','horse','ship','truck']----------#"
      ],
      "execution_count": 7,
      "outputs": [
        {
          "output_type": "stream",
          "text": [
            "WARNING: Logging before flag parsing goes to stderr.\n",
            "W0619 12:10:45.751612 140306142189440 image.py:648] Clipping input data to the valid range for imshow with RGB data ([0..1] for floats or [0..255] for integers).\n",
            "W0619 12:10:45.766178 140306142189440 image.py:648] Clipping input data to the valid range for imshow with RGB data ([0..1] for floats or [0..255] for integers).\n",
            "W0619 12:10:45.781641 140306142189440 image.py:648] Clipping input data to the valid range for imshow with RGB data ([0..1] for floats or [0..255] for integers).\n",
            "W0619 12:10:45.794484 140306142189440 image.py:648] Clipping input data to the valid range for imshow with RGB data ([0..1] for floats or [0..255] for integers).\n",
            "W0619 12:10:45.808433 140306142189440 image.py:648] Clipping input data to the valid range for imshow with RGB data ([0..1] for floats or [0..255] for integers).\n",
            "W0619 12:10:45.822609 140306142189440 image.py:648] Clipping input data to the valid range for imshow with RGB data ([0..1] for floats or [0..255] for integers).\n",
            "W0619 12:10:45.837303 140306142189440 image.py:648] Clipping input data to the valid range for imshow with RGB data ([0..1] for floats or [0..255] for integers).\n",
            "W0619 12:10:45.849856 140306142189440 image.py:648] Clipping input data to the valid range for imshow with RGB data ([0..1] for floats or [0..255] for integers).\n",
            "W0619 12:10:45.864458 140306142189440 image.py:648] Clipping input data to the valid range for imshow with RGB data ([0..1] for floats or [0..255] for integers).\n"
          ],
          "name": "stderr"
        },
        {
          "output_type": "display_data",
          "data": {
            "image/png": "[encoded data removed]",
            "text/plain": [
              "<Figure size 432x288 with 9 Axes>"
            ]
          },
          "metadata": {
            "tags": []
          }
        }
      ]
    },
    {
      "cell_type": "code",
      "metadata": {
        "id": "D-Q0EPycZ2j5",
        "colab_type": "code",
        "colab": {}
      },
      "source": [
        "#------------------defining the cnn model------------------------#\n",
        "\n",
        "def define_model():\n",
        "  baseMapNum = 32\n",
        "  weight_decay = 1e-4\n",
        "  model = Sequential() #intializing the model\n",
        "  \n",
        "  # 32 conv layers of size 3*3 and padding with values same as edge values, output shape would be 32*32*32  \n",
        "  model.add(Conv2D(baseMapNum, (3,3), padding='same', kernel_regularizer=regularizers.l2(weight_decay), input_shape=(32,32,3))) \n",
        "  model.add(Activation('relu'))\n",
        "  model.add(BatchNormalization())\n",
        "  model.add(Conv2D(baseMapNum, (3,3), padding='same', kernel_regularizer=regularizers.l2(weight_decay)))\n",
        "  model.add(Activation('relu'))\n",
        "  model.add(BatchNormalization())\n",
        "  model.add(MaxPooling2D(pool_size=(2,2)))\n",
        "  model.add(Dropout(0.2)) #dropout with probability 0.2\n",
        "  \n",
        "  #64 conv layers of size 3*3 and the output shape will be 32*32*64\n",
        "  model.add(Conv2D(2*baseMapNum, (3,3), padding='same', kernel_regularizer=regularizers.l2(weight_decay)))\n",
        "  model.add(Activation('relu'))\n",
        "  model.add(BatchNormalization())\n",
        "  model.add(Conv2D(2*baseMapNum, (3,3), padding='same', kernel_regularizer=regularizers.l2(weight_decay)))\n",
        "  model.add(Activation('relu'))\n",
        "  model.add(BatchNormalization())\n",
        "  model.add(MaxPooling2D(pool_size=(2,2)))\n",
        "  model.add(Dropout(0.3))\n",
        "  \n",
        "  #128 conv layers of size 3*3 and output shape will be 32*32*128\n",
        "  model.add(Conv2D(4*baseMapNum, (3,3), padding='same', kernel_regularizer=regularizers.l2(weight_decay)))\n",
        "  model.add(Activation('relu'))\n",
        "  model.add(BatchNormalization())\n",
        "  model.add(Conv2D(4*baseMapNum, (3,3), padding='same', kernel_regularizer=regularizers.l2(weight_decay)))\n",
        "  model.add(Activation('relu'))\n",
        "  model.add(BatchNormalization())\n",
        "  model.add(MaxPooling2D(pool_size=(2,2)))\n",
        "  model.add(Dropout(0.4))\n",
        "\n",
        "  model.add(Flatten())\n",
        "  model.add(Dense(num_classes, activation='softmax'))\n",
        "  return model\n",
        " \n"
      ],
      "execution_count": 0,
      "outputs": []
    },
    {
      "cell_type": "code",
      "metadata": {
        "id": "QqvWBGrn4J7Q",
        "colab_type": "code",
        "colab": {
          "base_uri": "https://localhost:8080/",
          "height": 1020
        },
        "outputId": "ed5a3ffb-3bd4-4bf8-ce48-ef73355ab99f"
      },
      "source": [
        "#------------------summary of the defined model---------------------#\n",
        "model = define_model()\n",
        "model.summary()"
      ],
      "execution_count": 30,
      "outputs": [
        {
          "output_type": "stream",
          "text": [
            "_________________________________________________________________\n",
            "Layer (type)                 Output Shape              Param #   \n",
            "=================================================================\n",
            "conv2d_25 (Conv2D)           (None, 32, 32, 32)        896       \n",
            "_________________________________________________________________\n",
            "activation_25 (Activation)   (None, 32, 32, 32)        0         \n",
            "_________________________________________________________________\n",
            "batch_normalization_25 (Batc (None, 32, 32, 32)        128       \n",
            "_________________________________________________________________\n",
            "conv2d_26 (Conv2D)           (None, 32, 32, 32)        9248      \n",
            "_________________________________________________________________\n",
            "activation_26 (Activation)   (None, 32, 32, 32)        0         \n",
            "_________________________________________________________________\n",
            "batch_normalization_26 (Batc (None, 32, 32, 32)        128       \n",
            "_________________________________________________________________\n",
            "max_pooling2d_13 (MaxPooling (None, 16, 16, 32)        0         \n",
            "_________________________________________________________________\n",
            "dropout_13 (Dropout)         (None, 16, 16, 32)        0         \n",
            "_________________________________________________________________\n",
            "conv2d_27 (Conv2D)           (None, 16, 16, 64)        18496     \n",
            "_________________________________________________________________\n",
            "activation_27 (Activation)   (None, 16, 16, 64)        0         \n",
            "_________________________________________________________________\n",
            "batch_normalization_27 (Batc (None, 16, 16, 64)        256       \n",
            "_________________________________________________________________\n",
            "conv2d_28 (Conv2D)           (None, 16, 16, 64)        36928     \n",
            "_________________________________________________________________\n",
            "activation_28 (Activation)   (None, 16, 16, 64)        0         \n",
            "_________________________________________________________________\n",
            "batch_normalization_28 (Batc (None, 16, 16, 64)        256       \n",
            "_________________________________________________________________\n",
            "max_pooling2d_14 (MaxPooling (None, 8, 8, 64)          0         \n",
            "_________________________________________________________________\n",
            "dropout_14 (Dropout)         (None, 8, 8, 64)          0         \n",
            "_________________________________________________________________\n",
            "conv2d_29 (Conv2D)           (None, 8, 8, 128)         73856     \n",
            "_________________________________________________________________\n",
            "activation_29 (Activation)   (None, 8, 8, 128)         0         \n",
            "_________________________________________________________________\n",
            "batch_normalization_29 (Batc (None, 8, 8, 128)         512       \n",
            "_________________________________________________________________\n",
            "conv2d_30 (Conv2D)           (None, 8, 8, 128)         147584    \n",
            "_________________________________________________________________\n",
            "activation_30 (Activation)   (None, 8, 8, 128)         0         \n",
            "_________________________________________________________________\n",
            "batch_normalization_30 (Batc (None, 8, 8, 128)         512       \n",
            "_________________________________________________________________\n",
            "max_pooling2d_15 (MaxPooling (None, 4, 4, 128)         0         \n",
            "_________________________________________________________________\n",
            "dropout_15 (Dropout)         (None, 4, 4, 128)         0         \n",
            "_________________________________________________________________\n",
            "flatten_5 (Flatten)          (None, 2048)              0         \n",
            "_________________________________________________________________\n",
            "dense_5 (Dense)              (None, 10)                20490     \n",
            "=================================================================\n",
            "Total params: 309,290\n",
            "Trainable params: 308,394\n",
            "Non-trainable params: 896\n",
            "_________________________________________________________________\n"
          ],
          "name": "stdout"
        }
      ]
    },
    {
      "cell_type": "code",
      "metadata": {
        "id": "lfcv4opQZySi",
        "colab_type": "code",
        "colab": {
          "base_uri": "https://localhost:8080/",
          "height": 817
        },
        "outputId": "b8d7c010-5ba6-4ace-f4c0-1a2b94755166"
      },
      "source": [
        "#------wrap model and data in ktrain.learner object----------------#\n",
        "model = define_model()\n",
        "model.compile(loss='categorical_crossentropy',optimizer='adam',metrics=['accuracy'])\n",
        "learner = ktrain.get_learner(model, train_data=(x, y_label),val_data = (x, y_label))\n",
        "\n",
        "\n",
        "#---------------we use the Learning Rate Finder in ktrain to find a good initial learning rate.------------#\n",
        "learner.lr_find()\n",
        "learner.lr_plot()\n"
      ],
      "execution_count": 9,
      "outputs": [
        {
          "output_type": "stream",
          "text": [
            "W0619 12:10:51.986640 140306142189440 deprecation_wrapper.py:119] From /usr/local/lib/python3.6/dist-packages/keras/backend/tensorflow_backend.py:74: The name tf.get_default_graph is deprecated. Please use tf.compat.v1.get_default_graph instead.\n",
            "\n",
            "W0619 12:10:52.013617 140306142189440 deprecation_wrapper.py:119] From /usr/local/lib/python3.6/dist-packages/keras/backend/tensorflow_backend.py:517: The name tf.placeholder is deprecated. Please use tf.compat.v1.placeholder instead.\n",
            "\n",
            "W0619 12:10:52.018721 140306142189440 deprecation_wrapper.py:119] From /usr/local/lib/python3.6/dist-packages/keras/backend/tensorflow_backend.py:4138: The name tf.random_uniform is deprecated. Please use tf.random.uniform instead.\n",
            "\n",
            "W0619 12:10:52.053021 140306142189440 deprecation_wrapper.py:119] From /usr/local/lib/python3.6/dist-packages/keras/backend/tensorflow_backend.py:174: The name tf.get_default_session is deprecated. Please use tf.compat.v1.get_default_session instead.\n",
            "\n",
            "W0619 12:10:52.054164 140306142189440 deprecation_wrapper.py:119] From /usr/local/lib/python3.6/dist-packages/keras/backend/tensorflow_backend.py:181: The name tf.ConfigProto is deprecated. Please use tf.compat.v1.ConfigProto instead.\n",
            "\n",
            "W0619 12:10:54.636529 140306142189440 deprecation_wrapper.py:119] From /usr/local/lib/python3.6/dist-packages/keras/backend/tensorflow_backend.py:1834: The name tf.nn.fused_batch_norm is deprecated. Please use tf.compat.v1.nn.fused_batch_norm instead.\n",
            "\n",
            "W0619 12:10:54.792135 140306142189440 deprecation_wrapper.py:119] From /usr/local/lib/python3.6/dist-packages/keras/backend/tensorflow_backend.py:3976: The name tf.nn.max_pool is deprecated. Please use tf.nn.max_pool2d instead.\n",
            "\n",
            "W0619 12:10:54.800485 140306142189440 deprecation.py:506] From /usr/local/lib/python3.6/dist-packages/keras/backend/tensorflow_backend.py:3445: calling dropout (from tensorflow.python.ops.nn_ops) with keep_prob is deprecated and will be removed in a future version.\n",
            "Instructions for updating:\n",
            "Please use `rate` instead of `keep_prob`. Rate should be set to `rate = 1 - keep_prob`.\n",
            "W0619 12:10:55.214407 140306142189440 deprecation_wrapper.py:119] From /usr/local/lib/python3.6/dist-packages/keras/optimizers.py:790: The name tf.train.Optimizer is deprecated. Please use tf.compat.v1.train.Optimizer instead.\n",
            "\n"
          ],
          "name": "stderr"
        },
        {
          "output_type": "stream",
          "text": [
            "simulating training for different learning rates... this may take a few moments...\n"
          ],
          "name": "stdout"
        },
        {
          "output_type": "stream",
          "text": [
            "W0619 12:10:56.002864 140306142189440 deprecation.py:323] From /usr/local/lib/python3.6/dist-packages/tensorflow/python/ops/math_grad.py:1250: add_dispatch_support.<locals>.wrapper (from tensorflow.python.ops.array_ops) is deprecated and will be removed in a future version.\n",
            "Instructions for updating:\n",
            "Use tf.where in 2.0, which has the same broadcast rule as np.where\n"
          ],
          "name": "stderr"
        },
        {
          "output_type": "stream",
          "text": [
            "Epoch 1/2\n",
            "60000/60000 [==============================] - 29s 477us/step - loss: 3.9611 - acc: 0.1794\n",
            "Epoch 2/2\n",
            "32864/60000 [===============>..............] - ETA: 10s - loss: 2.7919 - acc: 0.3230\n",
            "\n",
            "done.\n",
            "Please invoke the Learner.lr_plot() method to visually inspect the loss plot to help identify the maximal learning rate associated with falling loss.\n"
          ],
          "name": "stdout"
        },
        {
          "output_type": "display_data",
          "data": {
            "image/png": "[encoded data removed]",
            "text/plain": [
              "<Figure size 432x288 with 1 Axes>"
            ]
          },
          "metadata": {
            "tags": []
          }
        }
      ]
    },
    {
      "cell_type": "code",
      "metadata": {
        "id": "ysDFK8GV9Sxm",
        "colab_type": "code",
        "colab": {
          "base_uri": "https://localhost:8080/",
          "height": 459
        },
        "outputId": "1b0f92fa-78cd-4dee-fe15-2d9e7cbc4666"
      },
      "source": [
        "#-----------------using the print_layers function to examine the layers of the created network.-----------------#\n",
        "learner.print_layers()"
      ],
      "execution_count": 38,
      "outputs": [
        {
          "output_type": "stream",
          "text": [
            "0 (trainable=True) : <keras.layers.convolutional.Conv2D object at 0x7f9ab436db38>\n",
            "1 (trainable=True) : <keras.layers.core.Activation object at 0x7f9ab3b07390>\n",
            "2 (trainable=True) : <keras.layers.normalization.BatchNormalization object at 0x7f9ab3b070f0>\n",
            "3 (trainable=True) : <keras.layers.convolutional.Conv2D object at 0x7f9ab3c2ca90>\n",
            "4 (trainable=True) : <keras.layers.core.Activation object at 0x7f9ab3d16d30>\n",
            "5 (trainable=True) : <keras.layers.normalization.BatchNormalization object at 0x7f9ab3f06e10>\n",
            "6 (trainable=True) : <keras.layers.pooling.MaxPooling2D object at 0x7f9ab3ee5d68>\n",
            "7 (trainable=True) : <keras.layers.core.Dropout object at 0x7f9ab4011400>\n",
            "8 (trainable=True) : <keras.layers.convolutional.Conv2D object at 0x7f9ab3e18208>\n",
            "9 (trainable=True) : <keras.layers.core.Activation object at 0x7f9ab429e2b0>\n",
            "10 (trainable=True) : <keras.layers.normalization.BatchNormalization object at 0x7f9ab429e860>\n",
            "11 (trainable=True) : <keras.layers.convolutional.Conv2D object at 0x7f9ab3ad8780>\n",
            "12 (trainable=True) : <keras.layers.core.Activation object at 0x7f9ab3a85b38>\n",
            "13 (trainable=True) : <keras.layers.normalization.BatchNormalization object at 0x7f9ab3a85f28>\n",
            "14 (trainable=True) : <keras.layers.pooling.MaxPooling2D object at 0x7f9ab3a43898>\n",
            "15 (trainable=True) : <keras.layers.core.Dropout object at 0x7f9ab39d2c18>\n",
            "16 (trainable=True) : <keras.layers.convolutional.Conv2D object at 0x7f9ab39fffd0>\n",
            "17 (trainable=True) : <keras.layers.core.Activation object at 0x7f9ab3906da0>\n",
            "18 (trainable=True) : <keras.layers.normalization.BatchNormalization object at 0x7f9ab3906a20>\n",
            "19 (trainable=True) : <keras.layers.convolutional.Conv2D object at 0x7f9ab38ff5f8>\n",
            "20 (trainable=True) : <keras.layers.core.Activation object at 0x7f9ab38afdd8>\n",
            "21 (trainable=True) : <keras.layers.normalization.BatchNormalization object at 0x7f9ab386d2b0>\n",
            "22 (trainable=True) : <keras.layers.pooling.MaxPooling2D object at 0x7f9ab384fba8>\n",
            "23 (trainable=True) : <keras.layers.core.Dropout object at 0x7f9ab37f54a8>\n",
            "24 (trainable=True) : <keras.layers.core.Flatten object at 0x7f9ab37f56a0>\n",
            "25 (trainable=True) : <keras.layers.core.Dense object at 0x7f9ab378fbe0>\n"
          ],
          "name": "stdout"
        }
      ]
    },
    {
      "cell_type": "code",
      "metadata": {
        "id": "nLs7sLjzbCEJ",
        "colab_type": "code",
        "outputId": "8eadf9f9-f15d-4ce7-bce2-a8a10c8a6320",
        "colab": {
          "base_uri": "https://localhost:8080/",
          "height": 5868
        }
      },
      "source": [
        "\n",
        "\n",
        "kfold=StratifiedKFold(n_splits=3,shuffle=True)  #defining 3 folds with random shuffling for using StratifiedKFold\n",
        "kfold_acc=[]  #empty list declaration to store validation accuracy for each fold\n",
        "kfold_loss=[] #list to store validation loss for each fold\n",
        "\n",
        "#---------training with adaptive learning rate-----------#\n",
        "for train,test in kfold.split(x,y):\n",
        "  model = define_model()\n",
        "  model.compile(loss='categorical_crossentropy',      #compiling the model using categorical_crossentropy loss function and adam optimizer \n",
        "          optimizer='adam',\n",
        "          metrics=['accuracy'])\n",
        "  learner = ktrain.get_learner(model, \n",
        "                             train_data=(x[train], y_label[train]),\n",
        "                             val_data = (x[test], y_label[test]))\n",
        "  learner.autofit(0.005)\n",
        "  loss, acc = learner.model.evaluate(x=x[test], y=y_label[test])\n",
        "  print('final loss:%s, final score:%s' % (loss, acc))\n",
        "  kfold_acc.append(acc)\n",
        "  kfold_loss.append(loss)\n",
        "  \n"
      ],
      "execution_count": 10,
      "outputs": [
        {
          "output_type": "stream",
          "text": [
            "early_stopping automatically enabled at patience=5\n",
            "reduce_on_plateau automatically enabled at patience=2\n",
            "\n",
            "\n",
            "begin training using triangular learning rate policy with max lr of 0.005...\n",
            "Train on 40000 samples, validate on 20000 samples\n",
            "Epoch 1/1024\n",
            "  416/40000 [..............................] - ETA: 1:53 - loss: 4.0250 - acc: 0.1466"
          ],
          "name": "stdout"
        },
        {
          "output_type": "stream",
          "text": [
            "/usr/local/lib/python3.6/dist-packages/keras/callbacks.py:122: UserWarning: Method on_batch_end() is slow compared to the batch update (0.135362). Check your callbacks.\n",
            "  % delta_t_median)\n"
          ],
          "name": "stderr"
        },
        {
          "output_type": "stream",
          "text": [
            "40000/40000 [==============================] - 21s 525us/step - loss: 2.2627 - acc: 0.3939 - val_loss: 1.5131 - val_acc: 0.5216\n",
            "Epoch 2/1024\n",
            "40000/40000 [==============================] - 20s 492us/step - loss: 1.4329 - acc: 0.5385 - val_loss: 1.0991 - val_acc: 0.6523\n",
            "Epoch 3/1024\n",
            "40000/40000 [==============================] - 20s 490us/step - loss: 1.1537 - acc: 0.6297 - val_loss: 0.9835 - val_acc: 0.7111\n",
            "Epoch 4/1024\n",
            "40000/40000 [==============================] - 20s 491us/step - loss: 1.1224 - acc: 0.6639 - val_loss: 0.9494 - val_acc: 0.7370\n",
            "Epoch 5/1024\n",
            "40000/40000 [==============================] - 19s 486us/step - loss: 1.0556 - acc: 0.6992 - val_loss: 0.8761 - val_acc: 0.7642\n",
            "Epoch 6/1024\n",
            "40000/40000 [==============================] - 19s 483us/step - loss: 1.0184 - acc: 0.7193 - val_loss: 0.8615 - val_acc: 0.7794\n",
            "Epoch 7/1024\n",
            "40000/40000 [==============================] - 19s 484us/step - loss: 1.0051 - acc: 0.7310 - val_loss: 0.8703 - val_acc: 0.7840\n",
            "Epoch 8/1024\n",
            "40000/40000 [==============================] - 19s 477us/step - loss: 0.9998 - acc: 0.7454 - val_loss: 0.8620 - val_acc: 0.7936\n",
            "\n",
            "Epoch 00008: Reducing Max LR on Plateau: new max lr will be 0.0025 (if not early_stopping).\n",
            "Epoch 9/1024\n",
            "40000/40000 [==============================] - 19s 478us/step - loss: 0.8864 - acc: 0.7796 - val_loss: 0.7905 - val_acc: 0.8106\n",
            "Epoch 10/1024\n",
            "40000/40000 [==============================] - 19s 480us/step - loss: 0.8319 - acc: 0.7924 - val_loss: 0.7598 - val_acc: 0.8154\n",
            "Epoch 11/1024\n",
            "40000/40000 [==============================] - 19s 483us/step - loss: 0.8084 - acc: 0.7998 - val_loss: 0.7494 - val_acc: 0.8198\n",
            "Epoch 12/1024\n",
            "40000/40000 [==============================] - 19s 479us/step - loss: 0.7901 - acc: 0.8031 - val_loss: 0.7368 - val_acc: 0.8227\n",
            "Epoch 13/1024\n",
            "40000/40000 [==============================] - 19s 473us/step - loss: 0.7746 - acc: 0.8103 - val_loss: 0.7353 - val_acc: 0.8246\n",
            "Epoch 14/1024\n",
            "40000/40000 [==============================] - 19s 473us/step - loss: 0.7592 - acc: 0.8153 - val_loss: 0.7264 - val_acc: 0.8299\n",
            "Epoch 15/1024\n",
            "40000/40000 [==============================] - 19s 473us/step - loss: 0.7528 - acc: 0.8193 - val_loss: 0.7272 - val_acc: 0.8303\n",
            "Epoch 16/1024\n",
            "40000/40000 [==============================] - 19s 475us/step - loss: 0.7406 - acc: 0.8247 - val_loss: 0.7234 - val_acc: 0.8331\n",
            "Epoch 17/1024\n",
            "40000/40000 [==============================] - 19s 470us/step - loss: 0.7356 - acc: 0.8258 - val_loss: 0.7182 - val_acc: 0.8369\n",
            "Epoch 18/1024\n",
            "40000/40000 [==============================] - 19s 470us/step - loss: 0.7332 - acc: 0.8282 - val_loss: 0.7173 - val_acc: 0.8384\n",
            "Epoch 19/1024\n",
            "40000/40000 [==============================] - 19s 472us/step - loss: 0.7249 - acc: 0.8327 - val_loss: 0.7170 - val_acc: 0.8379\n",
            "Epoch 20/1024\n",
            "40000/40000 [==============================] - 19s 477us/step - loss: 0.7227 - acc: 0.8354 - val_loss: 0.7161 - val_acc: 0.8399\n",
            "Epoch 21/1024\n",
            "40000/40000 [==============================] - 19s 476us/step - loss: 0.7190 - acc: 0.8372 - val_loss: 0.7171 - val_acc: 0.8394\n",
            "Epoch 22/1024\n",
            "40000/40000 [==============================] - 19s 475us/step - loss: 0.7139 - acc: 0.8397 - val_loss: 0.7189 - val_acc: 0.8404\n",
            "\n",
            "Epoch 00022: Reducing Max LR on Plateau: new max lr will be 0.00125 (if not early_stopping).\n",
            "Epoch 23/1024\n",
            "40000/40000 [==============================] - 19s 474us/step - loss: 0.6318 - acc: 0.8642 - val_loss: 0.6878 - val_acc: 0.8497\n",
            "Epoch 24/1024\n",
            "40000/40000 [==============================] - 19s 475us/step - loss: 0.6036 - acc: 0.8738 - val_loss: 0.6711 - val_acc: 0.8527\n",
            "Epoch 25/1024\n",
            "40000/40000 [==============================] - 19s 473us/step - loss: 0.5864 - acc: 0.8739 - val_loss: 0.6644 - val_acc: 0.8532\n",
            "Epoch 26/1024\n",
            "40000/40000 [==============================] - 19s 479us/step - loss: 0.5775 - acc: 0.8750 - val_loss: 0.6624 - val_acc: 0.8533\n",
            "Epoch 27/1024\n",
            "40000/40000 [==============================] - 20s 495us/step - loss: 0.5623 - acc: 0.8790 - val_loss: 0.6535 - val_acc: 0.8554\n",
            "Epoch 28/1024\n",
            "40000/40000 [==============================] - 19s 482us/step - loss: 0.5562 - acc: 0.8793 - val_loss: 0.6557 - val_acc: 0.8518\n",
            "Epoch 29/1024\n",
            "40000/40000 [==============================] - 19s 477us/step - loss: 0.5429 - acc: 0.8819 - val_loss: 0.6570 - val_acc: 0.8548\n",
            "\n",
            "Epoch 00029: Reducing Max LR on Plateau: new max lr will be 0.000625 (if not early_stopping).\n",
            "Epoch 30/1024\n",
            "40000/40000 [==============================] - 19s 476us/step - loss: 0.4900 - acc: 0.9019 - val_loss: 0.6392 - val_acc: 0.8583\n",
            "Epoch 31/1024\n",
            "40000/40000 [==============================] - 19s 476us/step - loss: 0.4764 - acc: 0.9029 - val_loss: 0.6408 - val_acc: 0.8578\n",
            "Epoch 32/1024\n",
            "40000/40000 [==============================] - 19s 478us/step - loss: 0.4590 - acc: 0.9075 - val_loss: 0.6368 - val_acc: 0.8608\n",
            "Epoch 33/1024\n",
            "40000/40000 [==============================] - 19s 479us/step - loss: 0.4568 - acc: 0.9063 - val_loss: 0.6346 - val_acc: 0.8594\n",
            "Epoch 34/1024\n",
            "40000/40000 [==============================] - 19s 474us/step - loss: 0.4456 - acc: 0.9098 - val_loss: 0.6311 - val_acc: 0.8615\n",
            "Epoch 35/1024\n",
            "40000/40000 [==============================] - 19s 472us/step - loss: 0.4342 - acc: 0.9128 - val_loss: 0.6338 - val_acc: 0.8609\n",
            "Epoch 36/1024\n",
            "40000/40000 [==============================] - 19s 475us/step - loss: 0.4267 - acc: 0.9139 - val_loss: 0.6335 - val_acc: 0.8608\n",
            "\n",
            "Epoch 00036: Reducing Max LR on Plateau: new max lr will be 0.0003125 (if not early_stopping).\n",
            "Epoch 37/1024\n",
            "40000/40000 [==============================] - 19s 473us/step - loss: 0.3939 - acc: 0.9234 - val_loss: 0.6286 - val_acc: 0.8618\n",
            "Epoch 38/1024\n",
            "40000/40000 [==============================] - 19s 473us/step - loss: 0.3910 - acc: 0.9248 - val_loss: 0.6288 - val_acc: 0.8639\n",
            "Epoch 39/1024\n",
            "40000/40000 [==============================] - 19s 472us/step - loss: 0.3827 - acc: 0.9271 - val_loss: 0.6312 - val_acc: 0.8626\n",
            "\n",
            "Epoch 00039: Reducing Max LR on Plateau: new max lr will be 0.00015625 (if not early_stopping).\n",
            "Epoch 40/1024\n",
            "40000/40000 [==============================] - 19s 470us/step - loss: 0.3584 - acc: 0.9348 - val_loss: 0.6297 - val_acc: 0.8639\n",
            "Epoch 41/1024\n",
            "40000/40000 [==============================] - 19s 474us/step - loss: 0.3634 - acc: 0.9304 - val_loss: 0.6355 - val_acc: 0.8640\n",
            "\n",
            "Epoch 00041: Reducing Max LR on Plateau: new max lr will be 7.8125e-05 (if not early_stopping).\n",
            "Epoch 42/1024\n",
            "40000/40000 [==============================] - 19s 469us/step - loss: 0.3491 - acc: 0.9385 - val_loss: 0.6308 - val_acc: 0.8663\n",
            "Restoring model weights from the end of the best epoch\n",
            "Epoch 00042: early stopping\n",
            "Weights from best epoch have been loaded into model.\n",
            "20000/20000 [==============================] - 2s 102us/step\n",
            "final loss:0.6286024710893631, final score:0.86175\n",
            "early_stopping automatically enabled at patience=5\n",
            "reduce_on_plateau automatically enabled at patience=2\n",
            "\n",
            "\n",
            "begin training using triangular learning rate policy with max lr of 0.005...\n",
            "Train on 40000 samples, validate on 20000 samples\n",
            "Epoch 1/1024\n",
            "  416/40000 [..............................] - ETA: 2:18 - loss: 4.1344 - acc: 0.1587"
          ],
          "name": "stdout"
        },
        {
          "output_type": "stream",
          "text": [
            "/usr/local/lib/python3.6/dist-packages/keras/callbacks.py:122: UserWarning: Method on_batch_end() is slow compared to the batch update (0.215751). Check your callbacks.\n",
            "  % delta_t_median)\n"
          ],
          "name": "stderr"
        },
        {
          "output_type": "stream",
          "text": [
            "40000/40000 [==============================] - 21s 536us/step - loss: 2.2018 - acc: 0.3974 - val_loss: 1.5923 - val_acc: 0.5394\n",
            "Epoch 2/1024\n",
            "40000/40000 [==============================] - 21s 515us/step - loss: 1.6270 - acc: 0.5064 - val_loss: 1.2129 - val_acc: 0.6124\n",
            "Epoch 3/1024\n",
            "40000/40000 [==============================] - 21s 516us/step - loss: 1.2712 - acc: 0.5921 - val_loss: 1.0297 - val_acc: 0.6831\n",
            "Epoch 4/1024\n",
            "40000/40000 [==============================] - 21s 514us/step - loss: 1.1498 - acc: 0.6475 - val_loss: 0.9444 - val_acc: 0.7279\n",
            "Epoch 5/1024\n",
            "40000/40000 [==============================] - 21s 514us/step - loss: 1.0836 - acc: 0.6806 - val_loss: 0.9058 - val_acc: 0.7490\n",
            "Epoch 6/1024\n",
            "40000/40000 [==============================] - 21s 514us/step - loss: 1.0560 - acc: 0.7041 - val_loss: 0.9023 - val_acc: 0.7610\n",
            "Epoch 7/1024\n",
            "40000/40000 [==============================] - 21s 513us/step - loss: 1.0345 - acc: 0.7231 - val_loss: 0.8781 - val_acc: 0.7802\n",
            "Epoch 8/1024\n",
            "40000/40000 [==============================] - 20s 490us/step - loss: 1.0295 - acc: 0.7333 - val_loss: 0.8776 - val_acc: 0.7883\n",
            "Epoch 9/1024\n",
            "40000/40000 [==============================] - 21s 517us/step - loss: 1.0070 - acc: 0.7467 - val_loss: 0.8642 - val_acc: 0.7953\n",
            "Epoch 10/1024\n",
            "40000/40000 [==============================] - 20s 490us/step - loss: 1.0008 - acc: 0.7534 - val_loss: 0.8508 - val_acc: 0.8040\n",
            "Epoch 11/1024\n",
            "40000/40000 [==============================] - 20s 493us/step - loss: 0.9916 - acc: 0.7594 - val_loss: 0.8502 - val_acc: 0.8055\n",
            "Epoch 12/1024\n",
            "40000/40000 [==============================] - 20s 510us/step - loss: 0.9745 - acc: 0.7654 - val_loss: 0.8403 - val_acc: 0.8121\n",
            "Epoch 13/1024\n",
            "40000/40000 [==============================] - 21s 520us/step - loss: 0.9739 - acc: 0.7695 - val_loss: 0.8461 - val_acc: 0.8127\n",
            "Epoch 14/1024\n",
            "40000/40000 [==============================] - 20s 491us/step - loss: 0.9612 - acc: 0.7750 - val_loss: 0.8360 - val_acc: 0.8155\n",
            "Epoch 15/1024\n",
            "40000/40000 [==============================] - 21s 516us/step - loss: 0.9614 - acc: 0.7762 - val_loss: 0.8363 - val_acc: 0.8155\n",
            "Epoch 16/1024\n",
            "40000/40000 [==============================] - 20s 492us/step - loss: 0.9561 - acc: 0.7774 - val_loss: 0.8413 - val_acc: 0.8145\n",
            "\n",
            "Epoch 00016: Reducing Max LR on Plateau: new max lr will be 0.0025 (if not early_stopping).\n",
            "Epoch 17/1024\n",
            "40000/40000 [==============================] - 20s 491us/step - loss: 0.8379 - acc: 0.8103 - val_loss: 0.7677 - val_acc: 0.8312\n",
            "Epoch 18/1024\n",
            "40000/40000 [==============================] - 20s 498us/step - loss: 0.7899 - acc: 0.8195 - val_loss: 0.7377 - val_acc: 0.8350\n",
            "Epoch 19/1024\n",
            "40000/40000 [==============================] - 20s 496us/step - loss: 0.7590 - acc: 0.8244 - val_loss: 0.7212 - val_acc: 0.8373\n",
            "Epoch 20/1024\n",
            "40000/40000 [==============================] - 20s 494us/step - loss: 0.7413 - acc: 0.8266 - val_loss: 0.7156 - val_acc: 0.8388\n",
            "Epoch 21/1024\n",
            "40000/40000 [==============================] - 21s 520us/step - loss: 0.7305 - acc: 0.8298 - val_loss: 0.7058 - val_acc: 0.8407\n",
            "Epoch 22/1024\n",
            "40000/40000 [==============================] - 20s 492us/step - loss: 0.7162 - acc: 0.8371 - val_loss: 0.7062 - val_acc: 0.8394\n",
            "Epoch 23/1024\n",
            "40000/40000 [==============================] - 20s 510us/step - loss: 0.7147 - acc: 0.8344 - val_loss: 0.7006 - val_acc: 0.8417\n",
            "Epoch 24/1024\n",
            "40000/40000 [==============================] - 20s 492us/step - loss: 0.7127 - acc: 0.8352 - val_loss: 0.6949 - val_acc: 0.8434\n",
            "Epoch 25/1024\n",
            "40000/40000 [==============================] - 20s 511us/step - loss: 0.7002 - acc: 0.8391 - val_loss: 0.7010 - val_acc: 0.8436\n",
            "Epoch 26/1024\n",
            "40000/40000 [==============================] - 21s 514us/step - loss: 0.6996 - acc: 0.8391 - val_loss: 0.6983 - val_acc: 0.8430\n",
            "\n",
            "Epoch 00026: Reducing Max LR on Plateau: new max lr will be 0.00125 (if not early_stopping).\n",
            "Epoch 27/1024\n",
            "40000/40000 [==============================] - 20s 511us/step - loss: 0.6302 - acc: 0.8604 - val_loss: 0.6683 - val_acc: 0.8514\n",
            "Epoch 28/1024\n",
            "40000/40000 [==============================] - 21s 520us/step - loss: 0.5994 - acc: 0.8682 - val_loss: 0.6599 - val_acc: 0.8528\n",
            "Epoch 29/1024\n",
            "40000/40000 [==============================] - 20s 496us/step - loss: 0.5768 - acc: 0.8750 - val_loss: 0.6470 - val_acc: 0.8548\n",
            "Epoch 30/1024\n",
            "40000/40000 [==============================] - 20s 493us/step - loss: 0.5649 - acc: 0.8748 - val_loss: 0.6423 - val_acc: 0.8543\n",
            "Epoch 31/1024\n",
            "40000/40000 [==============================] - 19s 486us/step - loss: 0.5533 - acc: 0.8770 - val_loss: 0.6459 - val_acc: 0.8549\n",
            "Epoch 32/1024\n",
            "40000/40000 [==============================] - 20s 488us/step - loss: 0.5405 - acc: 0.8825 - val_loss: 0.6403 - val_acc: 0.8539\n",
            "Epoch 33/1024\n",
            "40000/40000 [==============================] - 20s 491us/step - loss: 0.5375 - acc: 0.8822 - val_loss: 0.6367 - val_acc: 0.8548\n",
            "Epoch 34/1024\n",
            "40000/40000 [==============================] - 20s 495us/step - loss: 0.5355 - acc: 0.8823 - val_loss: 0.6329 - val_acc: 0.8554\n",
            "Epoch 35/1024\n",
            "40000/40000 [==============================] - 20s 494us/step - loss: 0.5211 - acc: 0.8852 - val_loss: 0.6347 - val_acc: 0.8557\n",
            "Epoch 36/1024\n",
            "40000/40000 [==============================] - 20s 493us/step - loss: 0.5271 - acc: 0.8830 - val_loss: 0.6323 - val_acc: 0.8527\n",
            "Epoch 37/1024\n",
            "40000/40000 [==============================] - 20s 492us/step - loss: 0.5157 - acc: 0.8874 - val_loss: 0.6291 - val_acc: 0.8558\n",
            "Epoch 38/1024\n",
            "40000/40000 [==============================] - 20s 492us/step - loss: 0.5111 - acc: 0.8881 - val_loss: 0.6381 - val_acc: 0.8520\n",
            "Epoch 39/1024\n",
            "40000/40000 [==============================] - 20s 499us/step - loss: 0.5098 - acc: 0.8898 - val_loss: 0.6309 - val_acc: 0.8540\n",
            "\n",
            "Epoch 00039: Reducing Max LR on Plateau: new max lr will be 0.000625 (if not early_stopping).\n",
            "Epoch 40/1024\n",
            "40000/40000 [==============================] - 20s 504us/step - loss: 0.4602 - acc: 0.9038 - val_loss: 0.6305 - val_acc: 0.8562\n",
            "Epoch 41/1024\n",
            "40000/40000 [==============================] - 20s 503us/step - loss: 0.4522 - acc: 0.9061 - val_loss: 0.6286 - val_acc: 0.8563\n",
            "Epoch 42/1024\n",
            "40000/40000 [==============================] - 20s 508us/step - loss: 0.4394 - acc: 0.9095 - val_loss: 0.6224 - val_acc: 0.8582\n",
            "Epoch 43/1024\n",
            "40000/40000 [==============================] - 20s 501us/step - loss: 0.4258 - acc: 0.9118 - val_loss: 0.6284 - val_acc: 0.8574\n",
            "Epoch 44/1024\n",
            "40000/40000 [==============================] - 20s 504us/step - loss: 0.4205 - acc: 0.9128 - val_loss: 0.6258 - val_acc: 0.8573\n",
            "\n",
            "Epoch 00044: Reducing Max LR on Plateau: new max lr will be 0.0003125 (if not early_stopping).\n",
            "Epoch 45/1024\n",
            "40000/40000 [==============================] - 20s 505us/step - loss: 0.3895 - acc: 0.9237 - val_loss: 0.6209 - val_acc: 0.8602\n",
            "Epoch 46/1024\n",
            "40000/40000 [==============================] - 20s 508us/step - loss: 0.3888 - acc: 0.9231 - val_loss: 0.6223 - val_acc: 0.8609\n",
            "Epoch 47/1024\n",
            "40000/40000 [==============================] - 20s 494us/step - loss: 0.3801 - acc: 0.9262 - val_loss: 0.6205 - val_acc: 0.8623\n",
            "Epoch 48/1024\n",
            "40000/40000 [==============================] - 20s 494us/step - loss: 0.3750 - acc: 0.9273 - val_loss: 0.6204 - val_acc: 0.8626\n",
            "Epoch 49/1024\n",
            "40000/40000 [==============================] - 20s 493us/step - loss: 0.3712 - acc: 0.9256 - val_loss: 0.6195 - val_acc: 0.8621\n",
            "Epoch 50/1024\n",
            "40000/40000 [==============================] - 20s 489us/step - loss: 0.3643 - acc: 0.9274 - val_loss: 0.6172 - val_acc: 0.8625\n",
            "Epoch 51/1024\n",
            "40000/40000 [==============================] - 20s 488us/step - loss: 0.3629 - acc: 0.9282 - val_loss: 0.6183 - val_acc: 0.8646\n",
            "Epoch 52/1024\n",
            "40000/40000 [==============================] - 20s 491us/step - loss: 0.3552 - acc: 0.9296 - val_loss: 0.6206 - val_acc: 0.8631\n",
            "\n",
            "Epoch 00052: Reducing Max LR on Plateau: new max lr will be 0.00015625 (if not early_stopping).\n",
            "Epoch 53/1024\n",
            "40000/40000 [==============================] - 20s 492us/step - loss: 0.3361 - acc: 0.9360 - val_loss: 0.6198 - val_acc: 0.8627\n",
            "Epoch 54/1024\n",
            "40000/40000 [==============================] - 20s 495us/step - loss: 0.3409 - acc: 0.9342 - val_loss: 0.6184 - val_acc: 0.8641\n",
            "\n",
            "Epoch 00054: Reducing Max LR on Plateau: new max lr will be 7.8125e-05 (if not early_stopping).\n",
            "Epoch 55/1024\n",
            "40000/40000 [==============================] - 20s 496us/step - loss: 0.3225 - acc: 0.9405 - val_loss: 0.6174 - val_acc: 0.8635\n",
            "Restoring model weights from the end of the best epoch\n",
            "Epoch 00055: early stopping\n",
            "Weights from best epoch have been loaded into model.\n",
            "20000/20000 [==============================] - 2s 104us/step\n",
            "final loss:0.6171639852523804, final score:0.8625\n",
            "early_stopping automatically enabled at patience=5\n",
            "reduce_on_plateau automatically enabled at patience=2\n",
            "\n",
            "\n",
            "begin training using triangular learning rate policy with max lr of 0.005...\n",
            "Train on 40000 samples, validate on 20000 samples\n",
            "Epoch 1/1024\n",
            "  352/40000 [..............................] - ETA: 3:10 - loss: 4.5819 - acc: 0.1648"
          ],
          "name": "stdout"
        },
        {
          "output_type": "stream",
          "text": [
            "/usr/local/lib/python3.6/dist-packages/keras/callbacks.py:122: UserWarning: Method on_batch_end() is slow compared to the batch update (0.318692). Check your callbacks.\n",
            "  % delta_t_median)\n"
          ],
          "name": "stderr"
        },
        {
          "output_type": "stream",
          "text": [
            "40000/40000 [==============================] - 23s 568us/step - loss: 2.1998 - acc: 0.3916 - val_loss: 1.4077 - val_acc: 0.5475\n",
            "Epoch 2/1024\n",
            "40000/40000 [==============================] - 20s 505us/step - loss: 1.4228 - acc: 0.5513 - val_loss: 1.0549 - val_acc: 0.6601\n",
            "Epoch 3/1024\n",
            "40000/40000 [==============================] - 20s 506us/step - loss: 1.1202 - acc: 0.6396 - val_loss: 0.9037 - val_acc: 0.7217\n",
            "Epoch 4/1024\n",
            "40000/40000 [==============================] - 20s 507us/step - loss: 1.0227 - acc: 0.6867 - val_loss: 0.8521 - val_acc: 0.7537\n",
            "Epoch 5/1024\n",
            "40000/40000 [==============================] - 21s 513us/step - loss: 0.9916 - acc: 0.7123 - val_loss: 0.8490 - val_acc: 0.7702\n",
            "Epoch 6/1024\n",
            "40000/40000 [==============================] - 20s 505us/step - loss: 0.9912 - acc: 0.7301 - val_loss: 0.8463 - val_acc: 0.7847\n",
            "Epoch 7/1024\n",
            "40000/40000 [==============================] - 20s 496us/step - loss: 0.9858 - acc: 0.7433 - val_loss: 0.8545 - val_acc: 0.7931\n",
            "Epoch 8/1024\n",
            "40000/40000 [==============================] - 21s 523us/step - loss: 0.9849 - acc: 0.7545 - val_loss: 0.8582 - val_acc: 0.7999\n",
            "\n",
            "Epoch 00008: Reducing Max LR on Plateau: new max lr will be 0.0025 (if not early_stopping).\n",
            "Epoch 9/1024\n",
            "40000/40000 [==============================] - 21s 520us/step - loss: 0.8613 - acc: 0.7913 - val_loss: 0.7803 - val_acc: 0.8155\n",
            "Epoch 10/1024\n",
            "40000/40000 [==============================] - 20s 495us/step - loss: 0.8170 - acc: 0.8005 - val_loss: 0.7592 - val_acc: 0.8194\n",
            "Epoch 11/1024\n",
            "40000/40000 [==============================] - 20s 500us/step - loss: 0.7879 - acc: 0.8084 - val_loss: 0.7440 - val_acc: 0.8236\n",
            "Epoch 12/1024\n",
            "40000/40000 [==============================] - 21s 527us/step - loss: 0.7708 - acc: 0.8121 - val_loss: 0.7319 - val_acc: 0.8304\n",
            "Epoch 13/1024\n",
            "40000/40000 [==============================] - 20s 500us/step - loss: 0.7561 - acc: 0.8183 - val_loss: 0.7247 - val_acc: 0.8318\n",
            "Epoch 14/1024\n",
            "40000/40000 [==============================] - 20s 498us/step - loss: 0.7494 - acc: 0.8209 - val_loss: 0.7195 - val_acc: 0.8354\n",
            "Epoch 15/1024\n",
            "40000/40000 [==============================] - 20s 501us/step - loss: 0.7353 - acc: 0.8259 - val_loss: 0.7227 - val_acc: 0.8367\n",
            "Epoch 16/1024\n",
            "40000/40000 [==============================] - 21s 525us/step - loss: 0.7358 - acc: 0.8263 - val_loss: 0.7160 - val_acc: 0.8387\n",
            "Epoch 17/1024\n",
            "40000/40000 [==============================] - 21s 522us/step - loss: 0.7243 - acc: 0.8331 - val_loss: 0.7250 - val_acc: 0.8356\n",
            "Epoch 18/1024\n",
            "40000/40000 [==============================] - 21s 524us/step - loss: 0.7208 - acc: 0.8348 - val_loss: 0.7202 - val_acc: 0.8397\n",
            "\n",
            "Epoch 00018: Reducing Max LR on Plateau: new max lr will be 0.00125 (if not early_stopping).\n",
            "Epoch 19/1024\n",
            "40000/40000 [==============================] - 21s 525us/step - loss: 0.6422 - acc: 0.8597 - val_loss: 0.6884 - val_acc: 0.8466\n",
            "Epoch 20/1024\n",
            "40000/40000 [==============================] - 21s 533us/step - loss: 0.6120 - acc: 0.8651 - val_loss: 0.6677 - val_acc: 0.8506\n",
            "Epoch 21/1024\n",
            "40000/40000 [==============================] - 21s 513us/step - loss: 0.5901 - acc: 0.8707 - val_loss: 0.6690 - val_acc: 0.8485\n",
            "Epoch 22/1024\n",
            "40000/40000 [==============================] - 20s 497us/step - loss: 0.5771 - acc: 0.8734 - val_loss: 0.6603 - val_acc: 0.8511\n",
            "Epoch 23/1024\n",
            "40000/40000 [==============================] - 21s 514us/step - loss: 0.5661 - acc: 0.8740 - val_loss: 0.6617 - val_acc: 0.8491\n",
            "Epoch 24/1024\n",
            "40000/40000 [==============================] - 20s 502us/step - loss: 0.5507 - acc: 0.8799 - val_loss: 0.6535 - val_acc: 0.8508\n",
            "Epoch 25/1024\n",
            "40000/40000 [==============================] - 20s 499us/step - loss: 0.5487 - acc: 0.8801 - val_loss: 0.6474 - val_acc: 0.8535\n",
            "Epoch 26/1024\n",
            "40000/40000 [==============================] - 20s 500us/step - loss: 0.5373 - acc: 0.8812 - val_loss: 0.6509 - val_acc: 0.8518\n",
            "Epoch 27/1024\n",
            "40000/40000 [==============================] - 20s 501us/step - loss: 0.5341 - acc: 0.8842 - val_loss: 0.6437 - val_acc: 0.8532\n",
            "Epoch 28/1024\n",
            "40000/40000 [==============================] - 21s 528us/step - loss: 0.5250 - acc: 0.8845 - val_loss: 0.6508 - val_acc: 0.8514\n",
            "Epoch 29/1024\n",
            "40000/40000 [==============================] - 20s 499us/step - loss: 0.5237 - acc: 0.8864 - val_loss: 0.6486 - val_acc: 0.8547\n",
            "\n",
            "Epoch 00029: Reducing Max LR on Plateau: new max lr will be 0.000625 (if not early_stopping).\n",
            "Epoch 30/1024\n",
            "40000/40000 [==============================] - 20s 499us/step - loss: 0.4701 - acc: 0.9037 - val_loss: 0.6421 - val_acc: 0.8559\n",
            "Epoch 31/1024\n",
            "40000/40000 [==============================] - 21s 528us/step - loss: 0.4595 - acc: 0.9051 - val_loss: 0.6387 - val_acc: 0.8584\n",
            "Epoch 32/1024\n",
            "40000/40000 [==============================] - 20s 504us/step - loss: 0.4477 - acc: 0.9079 - val_loss: 0.6362 - val_acc: 0.8601\n",
            "Epoch 33/1024\n",
            "40000/40000 [==============================] - 20s 502us/step - loss: 0.4363 - acc: 0.9115 - val_loss: 0.6295 - val_acc: 0.8609\n",
            "Epoch 34/1024\n",
            "40000/40000 [==============================] - 21s 526us/step - loss: 0.4296 - acc: 0.9131 - val_loss: 0.6396 - val_acc: 0.8586\n",
            "Epoch 35/1024\n",
            "40000/40000 [==============================] - 21s 528us/step - loss: 0.4241 - acc: 0.9140 - val_loss: 0.6352 - val_acc: 0.8606\n",
            "\n",
            "Epoch 00035: Reducing Max LR on Plateau: new max lr will be 0.0003125 (if not early_stopping).\n",
            "Epoch 36/1024\n",
            "40000/40000 [==============================] - 21s 532us/step - loss: 0.3822 - acc: 0.9279 - val_loss: 0.6338 - val_acc: 0.8602\n",
            "Epoch 37/1024\n",
            "40000/40000 [==============================] - 20s 493us/step - loss: 0.3811 - acc: 0.9269 - val_loss: 0.6400 - val_acc: 0.8611\n",
            "\n",
            "Epoch 00037: Reducing Max LR on Plateau: new max lr will be 0.00015625 (if not early_stopping).\n",
            "Epoch 38/1024\n",
            "40000/40000 [==============================] - 20s 488us/step - loss: 0.3551 - acc: 0.9375 - val_loss: 0.6376 - val_acc: 0.8618\n",
            "Restoring model weights from the end of the best epoch\n",
            "Epoch 00038: early stopping\n",
            "Weights from best epoch have been loaded into model.\n",
            "20000/20000 [==============================] - 2s 107us/step\n",
            "final loss:0.6295084849357605, final score:0.8609\n"
          ],
          "name": "stdout"
        }
      ]
    },
    {
      "cell_type": "code",
      "metadata": {
        "id": "Hg2yOgQBbF3l",
        "colab_type": "code",
        "colab": {
          "base_uri": "https://localhost:8080/",
          "height": 51
        },
        "outputId": "9284fa96-775b-426a-a4e6-81f0c0bfe57c"
      },
      "source": [
        "#print(kfold_acc)\n",
        "#print(kfold_loss)\n",
        "accuracy = np.mean(np.array(kfold_acc))   #final accuracy is the mean of validation accuracy obtained at each fold \n",
        "loss = np.mean(np.array(kfold_loss))         #final loss is obtained by the mean of validation loss obtained at each fold\n",
        "print(\"Final Score:\"\"{0:.2f}\".format(accuracy*100)) \n",
        "print(\"Final loss:\"\"{0:.2f}\".format(loss))   "
      ],
      "execution_count": 29,
      "outputs": [
        {
          "output_type": "stream",
          "text": [
            "Final Score:86.17\n",
            "Final loss:0.63\n"
          ],
          "name": "stdout"
        }
      ]
    },
    {
      "cell_type": "code",
      "metadata": {
        "id": "Cqp6NCFqh_DQ",
        "colab_type": "code",
        "colab": {}
      },
      "source": [
        ""
      ],
      "execution_count": 0,
      "outputs": []
    }
  ]
}